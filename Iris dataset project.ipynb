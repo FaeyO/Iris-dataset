{
 "cells": [
  {
   "cell_type": "markdown",
   "id": "83c21096",
   "metadata": {},
   "source": [
    "## **Predicting optimum number of clusters**"
   ]
  },
  {
   "cell_type": "markdown",
   "id": "31ecdd6d",
   "metadata": {},
   "source": [
    "## The Sparks Foundation Data Science and Business Analytics Tasks.\n",
    "\n",
    "### Task2 : Predicting using unsupervised ML\n",
    "\n",
    "### Objective :From the given dataset predict the optimum number of cluster and present it visually\n",
    "\n",
    "### AUTHOR: Oyibo Favour"
   ]
  },
  {
   "cell_type": "code",
   "execution_count": 17,
   "id": "b15c8e3c",
   "metadata": {},
   "outputs": [],
   "source": [
    "#import needed modules\n",
    "import pandas as pd\n",
    "import numpy as np\n",
    "import seaborn as sns\n",
    "import matplotlib.pyplot as plt"
   ]
  },
  {
   "cell_type": "code",
   "execution_count": 18,
   "id": "9aa18c30",
   "metadata": {},
   "outputs": [
    {
     "data": {
      "text/html": [
       "<div>\n",
       "<style scoped>\n",
       "    .dataframe tbody tr th:only-of-type {\n",
       "        vertical-align: middle;\n",
       "    }\n",
       "\n",
       "    .dataframe tbody tr th {\n",
       "        vertical-align: top;\n",
       "    }\n",
       "\n",
       "    .dataframe thead th {\n",
       "        text-align: right;\n",
       "    }\n",
       "</style>\n",
       "<table border=\"1\" class=\"dataframe\">\n",
       "  <thead>\n",
       "    <tr style=\"text-align: right;\">\n",
       "      <th></th>\n",
       "      <th>Id</th>\n",
       "      <th>SepalLengthCm</th>\n",
       "      <th>SepalWidthCm</th>\n",
       "      <th>PetalLengthCm</th>\n",
       "      <th>PetalWidthCm</th>\n",
       "      <th>Species</th>\n",
       "    </tr>\n",
       "  </thead>\n",
       "  <tbody>\n",
       "    <tr>\n",
       "      <th>0</th>\n",
       "      <td>1</td>\n",
       "      <td>5.1</td>\n",
       "      <td>3.5</td>\n",
       "      <td>1.4</td>\n",
       "      <td>0.2</td>\n",
       "      <td>Iris-setosa</td>\n",
       "    </tr>\n",
       "    <tr>\n",
       "      <th>1</th>\n",
       "      <td>2</td>\n",
       "      <td>4.9</td>\n",
       "      <td>3.0</td>\n",
       "      <td>1.4</td>\n",
       "      <td>0.2</td>\n",
       "      <td>Iris-setosa</td>\n",
       "    </tr>\n",
       "    <tr>\n",
       "      <th>2</th>\n",
       "      <td>3</td>\n",
       "      <td>4.7</td>\n",
       "      <td>3.2</td>\n",
       "      <td>1.3</td>\n",
       "      <td>0.2</td>\n",
       "      <td>Iris-setosa</td>\n",
       "    </tr>\n",
       "    <tr>\n",
       "      <th>3</th>\n",
       "      <td>4</td>\n",
       "      <td>4.6</td>\n",
       "      <td>3.1</td>\n",
       "      <td>1.5</td>\n",
       "      <td>0.2</td>\n",
       "      <td>Iris-setosa</td>\n",
       "    </tr>\n",
       "    <tr>\n",
       "      <th>4</th>\n",
       "      <td>5</td>\n",
       "      <td>5.0</td>\n",
       "      <td>3.6</td>\n",
       "      <td>1.4</td>\n",
       "      <td>0.2</td>\n",
       "      <td>Iris-setosa</td>\n",
       "    </tr>\n",
       "  </tbody>\n",
       "</table>\n",
       "</div>"
      ],
      "text/plain": [
       "   Id  SepalLengthCm  SepalWidthCm  PetalLengthCm  PetalWidthCm      Species\n",
       "0   1            5.1           3.5            1.4           0.2  Iris-setosa\n",
       "1   2            4.9           3.0            1.4           0.2  Iris-setosa\n",
       "2   3            4.7           3.2            1.3           0.2  Iris-setosa\n",
       "3   4            4.6           3.1            1.5           0.2  Iris-setosa\n",
       "4   5            5.0           3.6            1.4           0.2  Iris-setosa"
      ]
     },
     "execution_count": 18,
     "metadata": {},
     "output_type": "execute_result"
    }
   ],
   "source": [
    "# Load the iris dataset\n",
    "iris = pd.read_csv('Downloads/Iris.csv')\n",
    "iris.head()"
   ]
  },
  {
   "cell_type": "code",
   "execution_count": 19,
   "id": "4196b94a",
   "metadata": {},
   "outputs": [
    {
     "data": {
      "text/plain": [
       "(150, 6)"
      ]
     },
     "execution_count": 19,
     "metadata": {},
     "output_type": "execute_result"
    }
   ],
   "source": [
    "#shape of data\n",
    "iris.shape"
   ]
  },
  {
   "cell_type": "markdown",
   "id": "d39a25f1",
   "metadata": {},
   "source": [
    "### Randomly select data for train and test from the iris dataset"
   ]
  },
  {
   "cell_type": "code",
   "execution_count": 4,
   "id": "51750d6e",
   "metadata": {},
   "outputs": [
    {
     "data": {
      "text/html": [
       "<div>\n",
       "<style scoped>\n",
       "    .dataframe tbody tr th:only-of-type {\n",
       "        vertical-align: middle;\n",
       "    }\n",
       "\n",
       "    .dataframe tbody tr th {\n",
       "        vertical-align: top;\n",
       "    }\n",
       "\n",
       "    .dataframe thead th {\n",
       "        text-align: right;\n",
       "    }\n",
       "</style>\n",
       "<table border=\"1\" class=\"dataframe\">\n",
       "  <thead>\n",
       "    <tr style=\"text-align: right;\">\n",
       "      <th></th>\n",
       "      <th>Id</th>\n",
       "      <th>SepalLengthCm</th>\n",
       "      <th>SepalWidthCm</th>\n",
       "      <th>PetalLengthCm</th>\n",
       "      <th>PetalWidthCm</th>\n",
       "      <th>Species</th>\n",
       "    </tr>\n",
       "  </thead>\n",
       "  <tbody>\n",
       "    <tr>\n",
       "      <th>139</th>\n",
       "      <td>140</td>\n",
       "      <td>6.9</td>\n",
       "      <td>3.1</td>\n",
       "      <td>5.4</td>\n",
       "      <td>2.1</td>\n",
       "      <td>Iris-virginica</td>\n",
       "    </tr>\n",
       "    <tr>\n",
       "      <th>125</th>\n",
       "      <td>126</td>\n",
       "      <td>7.2</td>\n",
       "      <td>3.2</td>\n",
       "      <td>6.0</td>\n",
       "      <td>1.8</td>\n",
       "      <td>Iris-virginica</td>\n",
       "    </tr>\n",
       "    <tr>\n",
       "      <th>67</th>\n",
       "      <td>68</td>\n",
       "      <td>5.8</td>\n",
       "      <td>2.7</td>\n",
       "      <td>4.1</td>\n",
       "      <td>1.0</td>\n",
       "      <td>Iris-versicolor</td>\n",
       "    </tr>\n",
       "    <tr>\n",
       "      <th>3</th>\n",
       "      <td>4</td>\n",
       "      <td>4.6</td>\n",
       "      <td>3.1</td>\n",
       "      <td>1.5</td>\n",
       "      <td>0.2</td>\n",
       "      <td>Iris-setosa</td>\n",
       "    </tr>\n",
       "    <tr>\n",
       "      <th>113</th>\n",
       "      <td>114</td>\n",
       "      <td>5.7</td>\n",
       "      <td>2.5</td>\n",
       "      <td>5.0</td>\n",
       "      <td>2.0</td>\n",
       "      <td>Iris-virginica</td>\n",
       "    </tr>\n",
       "    <tr>\n",
       "      <th>...</th>\n",
       "      <td>...</td>\n",
       "      <td>...</td>\n",
       "      <td>...</td>\n",
       "      <td>...</td>\n",
       "      <td>...</td>\n",
       "      <td>...</td>\n",
       "    </tr>\n",
       "    <tr>\n",
       "      <th>96</th>\n",
       "      <td>97</td>\n",
       "      <td>5.7</td>\n",
       "      <td>2.9</td>\n",
       "      <td>4.2</td>\n",
       "      <td>1.3</td>\n",
       "      <td>Iris-versicolor</td>\n",
       "    </tr>\n",
       "    <tr>\n",
       "      <th>35</th>\n",
       "      <td>36</td>\n",
       "      <td>5.0</td>\n",
       "      <td>3.2</td>\n",
       "      <td>1.2</td>\n",
       "      <td>0.2</td>\n",
       "      <td>Iris-setosa</td>\n",
       "    </tr>\n",
       "    <tr>\n",
       "      <th>108</th>\n",
       "      <td>109</td>\n",
       "      <td>6.7</td>\n",
       "      <td>2.5</td>\n",
       "      <td>5.8</td>\n",
       "      <td>1.8</td>\n",
       "      <td>Iris-virginica</td>\n",
       "    </tr>\n",
       "    <tr>\n",
       "      <th>74</th>\n",
       "      <td>75</td>\n",
       "      <td>6.4</td>\n",
       "      <td>2.9</td>\n",
       "      <td>4.3</td>\n",
       "      <td>1.3</td>\n",
       "      <td>Iris-versicolor</td>\n",
       "    </tr>\n",
       "    <tr>\n",
       "      <th>66</th>\n",
       "      <td>67</td>\n",
       "      <td>5.6</td>\n",
       "      <td>3.0</td>\n",
       "      <td>4.5</td>\n",
       "      <td>1.5</td>\n",
       "      <td>Iris-versicolor</td>\n",
       "    </tr>\n",
       "  </tbody>\n",
       "</table>\n",
       "<p>120 rows × 6 columns</p>\n",
       "</div>"
      ],
      "text/plain": [
       "      Id  SepalLengthCm  SepalWidthCm  PetalLengthCm  PetalWidthCm  \\\n",
       "139  140            6.9           3.1            5.4           2.1   \n",
       "125  126            7.2           3.2            6.0           1.8   \n",
       "67    68            5.8           2.7            4.1           1.0   \n",
       "3      4            4.6           3.1            1.5           0.2   \n",
       "113  114            5.7           2.5            5.0           2.0   \n",
       "..   ...            ...           ...            ...           ...   \n",
       "96    97            5.7           2.9            4.2           1.3   \n",
       "35    36            5.0           3.2            1.2           0.2   \n",
       "108  109            6.7           2.5            5.8           1.8   \n",
       "74    75            6.4           2.9            4.3           1.3   \n",
       "66    67            5.6           3.0            4.5           1.5   \n",
       "\n",
       "             Species  \n",
       "139   Iris-virginica  \n",
       "125   Iris-virginica  \n",
       "67   Iris-versicolor  \n",
       "3        Iris-setosa  \n",
       "113   Iris-virginica  \n",
       "..               ...  \n",
       "96   Iris-versicolor  \n",
       "35       Iris-setosa  \n",
       "108   Iris-virginica  \n",
       "74   Iris-versicolor  \n",
       "66   Iris-versicolor  \n",
       "\n",
       "[120 rows x 6 columns]"
      ]
     },
     "execution_count": 4,
     "metadata": {},
     "output_type": "execute_result"
    }
   ],
   "source": [
    "#train sample data\n",
    "iris_df = iris.sample(frac=0.8, random_state=23)\n",
    "iris_df"
   ]
  },
  {
   "cell_type": "code",
   "execution_count": 5,
   "id": "4c987e20",
   "metadata": {},
   "outputs": [
    {
     "data": {
      "text/plain": [
       "array([[6.9, 3.1, 5.4, 2.1],\n",
       "       [7.2, 3.2, 6. , 1.8],\n",
       "       [5.8, 2.7, 4.1, 1. ],\n",
       "       [4.6, 3.1, 1.5, 0.2],\n",
       "       [5.7, 2.5, 5. , 2. ],\n",
       "       [6.9, 3.1, 4.9, 1.5],\n",
       "       [5.7, 3.8, 1.7, 0.3],\n",
       "       [6.4, 3.1, 5.5, 1.8],\n",
       "       [5.4, 3.4, 1.7, 0.2],\n",
       "       [5.6, 2.9, 3.6, 1.3],\n",
       "       [6.1, 2.8, 4.7, 1.2],\n",
       "       [4.8, 3.1, 1.6, 0.2],\n",
       "       [7.1, 3. , 5.9, 2.1],\n",
       "       [5.1, 3.8, 1.5, 0.3],\n",
       "       [5.4, 3.7, 1.5, 0.2],\n",
       "       [6.3, 2.8, 5.1, 1.5],\n",
       "       [6.4, 3.2, 4.5, 1.5],\n",
       "       [6.1, 2.9, 4.7, 1.4],\n",
       "       [7.7, 3. , 6.1, 2.3],\n",
       "       [5.2, 3.4, 1.4, 0.2],\n",
       "       [6.4, 3.2, 5.3, 2.3],\n",
       "       [4.8, 3. , 1.4, 0.3],\n",
       "       [5.1, 3.8, 1.6, 0.2],\n",
       "       [4.7, 3.2, 1.3, 0.2],\n",
       "       [6.7, 3.1, 5.6, 2.4],\n",
       "       [5.1, 3.5, 1.4, 0.3],\n",
       "       [5.1, 3.8, 1.9, 0.4],\n",
       "       [6.2, 2.8, 4.8, 1.8],\n",
       "       [6.6, 3. , 4.4, 1.4],\n",
       "       [5.6, 2.5, 3.9, 1.1],\n",
       "       [4.9, 3.1, 1.5, 0.1],\n",
       "       [5.2, 2.7, 3.9, 1.4],\n",
       "       [5.4, 3.9, 1.3, 0.4],\n",
       "       [7.7, 2.8, 6.7, 2. ],\n",
       "       [5. , 3.4, 1.5, 0.2],\n",
       "       [5.4, 3.9, 1.7, 0.4],\n",
       "       [6.5, 2.8, 4.6, 1.5],\n",
       "       [5. , 2.3, 3.3, 1. ],\n",
       "       [5.7, 3. , 4.2, 1.2],\n",
       "       [6.3, 3.3, 6. , 2.5],\n",
       "       [6.9, 3.2, 5.7, 2.3],\n",
       "       [4.8, 3.4, 1.9, 0.2],\n",
       "       [5.5, 2.4, 3.7, 1. ],\n",
       "       [4.6, 3.2, 1.4, 0.2],\n",
       "       [6.3, 2.3, 4.4, 1.3],\n",
       "       [6.3, 2.5, 5. , 1.9],\n",
       "       [4.9, 2.5, 4.5, 1.7],\n",
       "       [7.9, 3.8, 6.4, 2. ],\n",
       "       [4.9, 3.1, 1.5, 0.1],\n",
       "       [5.7, 2.8, 4.1, 1.3],\n",
       "       [7.4, 2.8, 6.1, 1.9],\n",
       "       [6.2, 3.4, 5.4, 2.3],\n",
       "       [5.5, 4.2, 1.4, 0.2],\n",
       "       [6.1, 2.6, 5.6, 1.4],\n",
       "       [5.4, 3. , 4.5, 1.5],\n",
       "       [7. , 3.2, 4.7, 1.4],\n",
       "       [7.7, 3.8, 6.7, 2.2],\n",
       "       [5.9, 3. , 4.2, 1.5],\n",
       "       [5. , 3.6, 1.4, 0.2],\n",
       "       [6.5, 3.2, 5.1, 2. ],\n",
       "       [6.7, 3. , 5. , 1.7],\n",
       "       [4.7, 3.2, 1.6, 0.2],\n",
       "       [5.8, 2.6, 4. , 1.2],\n",
       "       [5.1, 3.3, 1.7, 0.5],\n",
       "       [6.4, 2.8, 5.6, 2.1],\n",
       "       [5.5, 2.3, 4. , 1.3],\n",
       "       [6.8, 2.8, 4.8, 1.4],\n",
       "       [6.4, 2.8, 5.6, 2.2],\n",
       "       [5.8, 2.8, 5.1, 2.4],\n",
       "       [6.3, 2.5, 4.9, 1.5],\n",
       "       [4.9, 3.1, 1.5, 0.1],\n",
       "       [5. , 3.4, 1.6, 0.4],\n",
       "       [6.3, 3.4, 5.6, 2.4],\n",
       "       [4.9, 3. , 1.4, 0.2],\n",
       "       [4.8, 3.4, 1.6, 0.2],\n",
       "       [6.8, 3. , 5.5, 2.1],\n",
       "       [5.8, 2.7, 5.1, 1.9],\n",
       "       [5.5, 2.5, 4. , 1.3],\n",
       "       [4.4, 2.9, 1.4, 0.2],\n",
       "       [5.6, 3. , 4.1, 1.3],\n",
       "       [6.4, 2.7, 5.3, 1.9],\n",
       "       [6.2, 2.2, 4.5, 1.5],\n",
       "       [6.5, 3. , 5.8, 2.2],\n",
       "       [7.6, 3. , 6.6, 2.1],\n",
       "       [6.2, 2.9, 4.3, 1.3],\n",
       "       [4.4, 3.2, 1.3, 0.2],\n",
       "       [6.1, 2.8, 4. , 1.3],\n",
       "       [5.6, 2.8, 4.9, 2. ],\n",
       "       [6.1, 3. , 4.9, 1.8],\n",
       "       [6. , 2.2, 4. , 1. ],\n",
       "       [5.2, 3.5, 1.5, 0.2],\n",
       "       [5.7, 2.8, 4.5, 1.3],\n",
       "       [6. , 3.4, 4.5, 1.6],\n",
       "       [5.8, 2.7, 3.9, 1.2],\n",
       "       [6. , 2.2, 5. , 1.5],\n",
       "       [5.9, 3.2, 4.8, 1.8],\n",
       "       [5.5, 2.4, 3.8, 1.1],\n",
       "       [5.8, 2.7, 5.1, 1.9],\n",
       "       [7.3, 2.9, 6.3, 1.8],\n",
       "       [7.2, 3.6, 6.1, 2.5],\n",
       "       [5.8, 4. , 1.2, 0.2],\n",
       "       [6.7, 3.3, 5.7, 2.1],\n",
       "       [5.1, 2.5, 3. , 1.1],\n",
       "       [5.2, 4.1, 1.5, 0.1],\n",
       "       [6.8, 3.2, 5.9, 2.3],\n",
       "       [6. , 3. , 4.8, 1.8],\n",
       "       [5.1, 3.5, 1.4, 0.2],\n",
       "       [6. , 2.9, 4.5, 1.5],\n",
       "       [5.6, 2.7, 4.2, 1.3],\n",
       "       [6.5, 3. , 5.2, 2. ],\n",
       "       [4.4, 3. , 1.3, 0.2],\n",
       "       [4.6, 3.6, 1. , 0.2],\n",
       "       [5. , 2. , 3.5, 1. ],\n",
       "       [4.3, 3. , 1.1, 0.1],\n",
       "       [6.3, 3.3, 4.7, 1.6],\n",
       "       [5.7, 2.9, 4.2, 1.3],\n",
       "       [5. , 3.2, 1.2, 0.2],\n",
       "       [6.7, 2.5, 5.8, 1.8],\n",
       "       [6.4, 2.9, 4.3, 1.3],\n",
       "       [5.6, 3. , 4.5, 1.5]])"
      ]
     },
     "execution_count": 5,
     "metadata": {},
     "output_type": "execute_result"
    }
   ],
   "source": [
    "#drop the species column\n",
    "train_sample_df = iris_df.drop(columns=['Id','Species'])\n",
    "train_sample_df.reset_index(drop=True)\n",
    "train_sample = train_sample_df.values\n",
    "train_sample"
   ]
  },
  {
   "cell_type": "code",
   "execution_count": 6,
   "id": "9959067a",
   "metadata": {},
   "outputs": [
    {
     "data": {
      "text/html": [
       "<div>\n",
       "<style scoped>\n",
       "    .dataframe tbody tr th:only-of-type {\n",
       "        vertical-align: middle;\n",
       "    }\n",
       "\n",
       "    .dataframe tbody tr th {\n",
       "        vertical-align: top;\n",
       "    }\n",
       "\n",
       "    .dataframe thead th {\n",
       "        text-align: right;\n",
       "    }\n",
       "</style>\n",
       "<table border=\"1\" class=\"dataframe\">\n",
       "  <thead>\n",
       "    <tr style=\"text-align: right;\">\n",
       "      <th></th>\n",
       "      <th>SepalLengthCm</th>\n",
       "      <th>SepalWidthCm</th>\n",
       "      <th>PetalLengthCm</th>\n",
       "      <th>PetalWidthCm</th>\n",
       "    </tr>\n",
       "  </thead>\n",
       "  <tbody>\n",
       "    <tr>\n",
       "      <th>0</th>\n",
       "      <td>4.6</td>\n",
       "      <td>3.4</td>\n",
       "      <td>1.4</td>\n",
       "      <td>0.3</td>\n",
       "    </tr>\n",
       "    <tr>\n",
       "      <th>1</th>\n",
       "      <td>4.8</td>\n",
       "      <td>3.0</td>\n",
       "      <td>1.4</td>\n",
       "      <td>0.1</td>\n",
       "    </tr>\n",
       "    <tr>\n",
       "      <th>2</th>\n",
       "      <td>5.7</td>\n",
       "      <td>4.4</td>\n",
       "      <td>1.5</td>\n",
       "      <td>0.4</td>\n",
       "    </tr>\n",
       "    <tr>\n",
       "      <th>3</th>\n",
       "      <td>5.1</td>\n",
       "      <td>3.7</td>\n",
       "      <td>1.5</td>\n",
       "      <td>0.4</td>\n",
       "    </tr>\n",
       "    <tr>\n",
       "      <th>4</th>\n",
       "      <td>5.0</td>\n",
       "      <td>3.0</td>\n",
       "      <td>1.6</td>\n",
       "      <td>0.2</td>\n",
       "    </tr>\n",
       "  </tbody>\n",
       "</table>\n",
       "</div>"
      ],
      "text/plain": [
       "   SepalLengthCm  SepalWidthCm  PetalLengthCm  PetalWidthCm\n",
       "0            4.6           3.4            1.4           0.3\n",
       "1            4.8           3.0            1.4           0.1\n",
       "2            5.7           4.4            1.5           0.4\n",
       "3            5.1           3.7            1.5           0.4\n",
       "4            5.0           3.0            1.6           0.2"
      ]
     },
     "execution_count": 6,
     "metadata": {},
     "output_type": "execute_result"
    }
   ],
   "source": [
    "#new sample data\n",
    "new_sample_df = iris[~iris.isin(iris_df)]\n",
    "new_sample = new_sample_df.dropna().drop(columns=['Id','Species'])\n",
    "new_sample.reset_index(drop=True).head()"
   ]
  },
  {
   "cell_type": "code",
   "execution_count": 7,
   "id": "a0240414",
   "metadata": {},
   "outputs": [
    {
     "name": "stdout",
     "output_type": "stream",
     "text": [
      "train_sample shape: (120, 4)\n",
      "new_sample shape: (30, 4)\n"
     ]
    }
   ],
   "source": [
    "#shape of train and test data\n",
    "print('train_sample shape:', train_sample.shape)\n",
    "print('new_sample shape:', new_sample.shape)"
   ]
  },
  {
   "cell_type": "markdown",
   "id": "1d88c6b5",
   "metadata": {},
   "source": [
    "### Optimum number of clusters"
   ]
  },
  {
   "cell_type": "code",
   "execution_count": 8,
   "id": "be80ffef",
   "metadata": {},
   "outputs": [],
   "source": [
    "from sklearn.cluster import KMeans"
   ]
  },
  {
   "cell_type": "code",
   "execution_count": 9,
   "id": "83889d12",
   "metadata": {},
   "outputs": [
    {
     "name": "stderr",
     "output_type": "stream",
     "text": [
      "C:\\Users\\USER\\anaconda3\\lib\\site-packages\\sklearn\\cluster\\_kmeans.py:1036: UserWarning: KMeans is known to have a memory leak on Windows with MKL, when there are less chunks than available threads. You can avoid it by setting the environment variable OMP_NUM_THREADS=1.\n",
      "  warnings.warn(\n"
     ]
    }
   ],
   "source": [
    "ks = range(1,11)\n",
    "inertias = []\n",
    "for k in ks:\n",
    "    model = KMeans(n_clusters=k)\n",
    "    model.fit(train_sample)\n",
    "    inertias.append(model.inertia_)"
   ]
  },
  {
   "cell_type": "code",
   "execution_count": 10,
   "id": "4756b14e",
   "metadata": {},
   "outputs": [
    {
     "data": {
      "image/png": "[encoded data removed]",
      "text/plain": [
       "<Figure size 640x480 with 1 Axes>"
      ]
     },
     "metadata": {},
     "output_type": "display_data"
    }
   ],
   "source": [
    "# Plot ks vs inertias\n",
    "plt.plot(ks, inertias, '-o')\n",
    "plt.xlabel('number of clusters, k')\n",
    "plt.ylabel('inertia')\n",
    "plt.xticks(ks)\n",
    "plt.show()\n"
   ]
  },
  {
   "cell_type": "markdown",
   "id": "ed1480e8",
   "metadata": {},
   "source": [
    "**From the diagram above the optimum number of cluster is 3**"
   ]
  },
  {
   "cell_type": "code",
   "execution_count": 11,
   "id": "30259629",
   "metadata": {},
   "outputs": [
    {
     "name": "stdout",
     "output_type": "stream",
     "text": [
      "labels: \n",
      " [1 1 2 0 2 1 0 1 0 2 2 0 1 0 0 2 2 2 1 0 1 0 0 0 1 0 0 2 2 2 0 2 0 1 0 0 2\n",
      " 2 2 1 1 0 2 0 2 2 2 1 0 2 1 1 0 1 2 1 1 2 0 1 1 0 2 0 1 2 2 1 2 2 0 0 1 0\n",
      " 0 1 2 2 0 2 1 2 1 1 2 0 2 2 2 2 0 2 2 2 2 2 2 2 1 1 0 1 2 0 1 2 0 2 2 1 0\n",
      " 0 2 0 2 2 0 1 2 2]\n",
      "\n",
      "\n",
      "inertia: 61.772769607843145\n"
     ]
    }
   ],
   "source": [
    "#Applying KMeans on the iris test dataset using the optimum cluster number\n",
    "model = KMeans(n_clusters=3, random_state=23)\n",
    "model.fit(train_sample)\n",
    "labels = model.predict(train_sample)\n",
    "print('labels:','\\n',labels)\n",
    "print('\\n')\n",
    "print('inertia:', model.inertia_)"
   ]
  },
  {
   "cell_type": "code",
   "execution_count": 12,
   "id": "b5ec2119",
   "metadata": {},
   "outputs": [
    {
     "name": "stdout",
     "output_type": "stream",
     "text": [
      "new_labels: \n",
      " [0 0 0 0 0 0 0 0 0 0 0 0 0 2 2 2 2 2 2 2 2 1 1 1 2 1 1 1 1 2]\n"
     ]
    }
   ],
   "source": [
    "#predict on new_sample\n",
    "new_labels = model.predict(new_sample.values)\n",
    "print('new_labels:','\\n',new_labels)"
   ]
  },
  {
   "cell_type": "markdown",
   "id": "060e7649",
   "metadata": {},
   "source": [
    "## Evaluting the cluster"
   ]
  },
  {
   "cell_type": "code",
   "execution_count": 13,
   "id": "bec2c9b6",
   "metadata": {},
   "outputs": [
    {
     "data": {
      "text/plain": [
       "139     Iris-virginica\n",
       "125     Iris-virginica\n",
       "67     Iris-versicolor\n",
       "3          Iris-setosa\n",
       "113     Iris-virginica\n",
       "            ...       \n",
       "96     Iris-versicolor\n",
       "35         Iris-setosa\n",
       "108     Iris-virginica\n",
       "74     Iris-versicolor\n",
       "66     Iris-versicolor\n",
       "Name: Species, Length: 120, dtype: object"
      ]
     },
     "execution_count": 13,
     "metadata": {},
     "output_type": "execute_result"
    }
   ],
   "source": [
    "species = iris_df['Species']\n",
    "species"
   ]
  },
  {
   "cell_type": "code",
   "execution_count": 14,
   "id": "5d3fd57d",
   "metadata": {},
   "outputs": [
    {
     "data": {
      "text/html": [
       "<div>\n",
       "<style scoped>\n",
       "    .dataframe tbody tr th:only-of-type {\n",
       "        vertical-align: middle;\n",
       "    }\n",
       "\n",
       "    .dataframe tbody tr th {\n",
       "        vertical-align: top;\n",
       "    }\n",
       "\n",
       "    .dataframe thead th {\n",
       "        text-align: right;\n",
       "    }\n",
       "</style>\n",
       "<table border=\"1\" class=\"dataframe\">\n",
       "  <thead>\n",
       "    <tr style=\"text-align: right;\">\n",
       "      <th>Species</th>\n",
       "      <th>Iris-setosa</th>\n",
       "      <th>Iris-versicolor</th>\n",
       "      <th>Iris-virginica</th>\n",
       "    </tr>\n",
       "    <tr>\n",
       "      <th>labels</th>\n",
       "      <th></th>\n",
       "      <th></th>\n",
       "      <th></th>\n",
       "    </tr>\n",
       "  </thead>\n",
       "  <tbody>\n",
       "    <tr>\n",
       "      <th>0</th>\n",
       "      <td>37</td>\n",
       "      <td>0</td>\n",
       "      <td>0</td>\n",
       "    </tr>\n",
       "    <tr>\n",
       "      <th>1</th>\n",
       "      <td>0</td>\n",
       "      <td>3</td>\n",
       "      <td>29</td>\n",
       "    </tr>\n",
       "    <tr>\n",
       "      <th>2</th>\n",
       "      <td>0</td>\n",
       "      <td>39</td>\n",
       "      <td>12</td>\n",
       "    </tr>\n",
       "  </tbody>\n",
       "</table>\n",
       "</div>"
      ],
      "text/plain": [
       "Species  Iris-setosa  Iris-versicolor  Iris-virginica\n",
       "labels                                               \n",
       "0                 37                0               0\n",
       "1                  0                3              29\n",
       "2                  0               39              12"
      ]
     },
     "execution_count": 14,
     "metadata": {},
     "output_type": "execute_result"
    }
   ],
   "source": [
    "#Evaluate on the train dataset\n",
    "df = pd.DataFrame({'labels':labels, 'Species':species})\n",
    "\n",
    "ct = pd.crosstab(df['labels'], df['Species'])\n",
    "ct"
   ]
  },
  {
   "cell_type": "code",
   "execution_count": 15,
   "id": "add20f7b",
   "metadata": {},
   "outputs": [
    {
     "data": {
      "text/html": [
       "<div>\n",
       "<style scoped>\n",
       "    .dataframe tbody tr th:only-of-type {\n",
       "        vertical-align: middle;\n",
       "    }\n",
       "\n",
       "    .dataframe tbody tr th {\n",
       "        vertical-align: top;\n",
       "    }\n",
       "\n",
       "    .dataframe thead th {\n",
       "        text-align: right;\n",
       "    }\n",
       "</style>\n",
       "<table border=\"1\" class=\"dataframe\">\n",
       "  <thead>\n",
       "    <tr style=\"text-align: right;\">\n",
       "      <th>Species</th>\n",
       "      <th>Iris-setosa</th>\n",
       "      <th>Iris-versicolor</th>\n",
       "      <th>Iris-virginica</th>\n",
       "    </tr>\n",
       "    <tr>\n",
       "      <th>new_labels</th>\n",
       "      <th></th>\n",
       "      <th></th>\n",
       "      <th></th>\n",
       "    </tr>\n",
       "  </thead>\n",
       "  <tbody>\n",
       "    <tr>\n",
       "      <th>0</th>\n",
       "      <td>13</td>\n",
       "      <td>0</td>\n",
       "      <td>0</td>\n",
       "    </tr>\n",
       "    <tr>\n",
       "      <th>1</th>\n",
       "      <td>0</td>\n",
       "      <td>0</td>\n",
       "      <td>7</td>\n",
       "    </tr>\n",
       "    <tr>\n",
       "      <th>2</th>\n",
       "      <td>0</td>\n",
       "      <td>8</td>\n",
       "      <td>2</td>\n",
       "    </tr>\n",
       "  </tbody>\n",
       "</table>\n",
       "</div>"
      ],
      "text/plain": [
       "Species     Iris-setosa  Iris-versicolor  Iris-virginica\n",
       "new_labels                                              \n",
       "0                    13                0               0\n",
       "1                     0                0               7\n",
       "2                     0                8               2"
      ]
     },
     "execution_count": 15,
     "metadata": {},
     "output_type": "execute_result"
    }
   ],
   "source": [
    "#Evaluate on new dataset\n",
    "species = new_sample_df['Species'].dropna()\n",
    "\n",
    "df = pd.DataFrame({'new_labels':new_labels, 'Species':species})\n",
    "\n",
    "ct = pd.crosstab(df['new_labels'], df['Species'])\n",
    "ct"
   ]
  },
  {
   "cell_type": "markdown",
   "id": "4a0cf9e5",
   "metadata": {},
   "source": [
    "## Visualizing Clustering"
   ]
  },
  {
   "cell_type": "code",
   "execution_count": 16,
   "id": "9cb35f8f",
   "metadata": {},
   "outputs": [
    {
     "data": {
      "image/png": "[encoded data removed]",
      "text/plain": [
       "<Figure size 640x480 with 1 Axes>"
      ]
     },
     "metadata": {},
     "output_type": "display_data"
    }
   ],
   "source": [
    "\n",
    "#Assing the first two columns of train_samples: xs and xy\n",
    "xs = train_sample[:,0]\n",
    "ys = train_sample[:,1]\n",
    "\n",
    "#make a scatter plot of xs and xy, using labels to define the colors\n",
    "plt.scatter( xs , ys, c=labels,alpha=0.5)\n",
    "\n",
    "#assign the cluster centers:centroids\n",
    "centroids = model.cluster_centers_\n",
    "\n",
    "#assign the columns of the centroids: centroids_x and centroids_y\n",
    "centroids_x = centroids[:,0]\n",
    "centroids_y = centroids[:,1]\n",
    "\n",
    "#make a scatterplot of centroids_x and centroids_y\n",
    "plt.scatter(centroids_x, centroids_y,marker='D',s=50,color='blue',label='centroids' )\n",
    "plt.legend()\n",
    "plt.show()"
   ]
  },
  {
   "cell_type": "markdown",
   "id": "2d003a4b",
   "metadata": {},
   "source": [
    "**From the diagram above, Each point represents an iris sample and its colored according to the cluster of that sample.**"
   ]
  }
 ],
 "metadata": {
  "hide_input": false,
  "kernelspec": {
   "display_name": "Python 3 (ipykernel)",
   "language": "python",
   "name": "python3"
  },
  "language_info": {
   "codemirror_mode": {
    "name": "ipython",
    "version": 3
   },
   "file_extension": ".py",
   "mimetype": "text/x-python",
   "name": "python",
   "nbconvert_exporter": "python",
   "pygments_lexer": "ipython3",
   "version": "3.9.13"
  }
 },
 "nbformat": 4,
 "nbformat_minor": 5
}
